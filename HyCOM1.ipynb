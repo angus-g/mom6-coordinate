{
 "cells": [
  {
   "cell_type": "code",
   "execution_count": null,
   "metadata": {
    "collapsed": true
   },
   "outputs": [],
   "source": [
    "%matplotlib inline"
   ]
  },
  {
   "cell_type": "code",
   "execution_count": null,
   "metadata": {
    "collapsed": false
   },
   "outputs": [],
   "source": [
    "from netCDF4 import Dataset\n",
    "import matplotlib.pyplot as plt\n",
    "import numpy as np\n",
    "from remapping import mom_remapping\n",
    "import gsw\n",
    "import hycom\n",
    "from importlib import reload"
   ]
  },
  {
   "cell_type": "code",
   "execution_count": null,
   "metadata": {
    "collapsed": false
   },
   "outputs": [],
   "source": [
    "temp_url = 'https://data.nodc.noaa.gov/thredds/dodsC/woa/WOA13/DATAv2/temperature/netcdf/decav/1.00/woa13_decav_t00_01v2.nc'\n",
    "salt_url = 'https://data.nodc.noaa.gov/thredds/dodsC/woa/WOA13/DATAv2/salinity/netcdf/decav/1.00/woa13_decav_s00_01v2.nc'\n",
    "\n",
    "temp_url_025 = 'https://data.nodc.noaa.gov/thredds/dodsC/woa/WOA13/DATAv2/temperature/netcdf/A5B2/0.25/woa13_A5B2_t00_04v2.nc'\n",
    "salt_url_025 = 'https://data.nodc.noaa.gov/thredds/dodsC/woa/WOA13/DATAv2/salinity/netcdf/A5B2/0.25/woa13_A5B2_s00_04v2.nc'"
   ]
  },
  {
   "cell_type": "code",
   "execution_count": null,
   "metadata": {
    "collapsed": false,
    "scrolled": true
   },
   "outputs": [],
   "source": [
    "temp = Dataset(temp_url, 'r')\n",
    "salt = Dataset(salt_url, 'r')"
   ]
  },
  {
   "cell_type": "code",
   "execution_count": null,
   "metadata": {
    "collapsed": true
   },
   "outputs": [],
   "source": [
    "lat = temp.variables['lat'][:]\n",
    "lon = temp.variables['lon'][:]\n",
    "dep = temp.variables['depth'][:]"
   ]
  },
  {
   "cell_type": "markdown",
   "metadata": {},
   "source": [
    "# Remapping\n",
    "\n",
    "We define a function that generates a remapping function."
   ]
  },
  {
   "cell_type": "code",
   "execution_count": null,
   "metadata": {
    "collapsed": true
   },
   "outputs": [],
   "source": [
    "remap_cs = mom_remapping.Remapping_Cs()\n",
    "remap_cs.remapping_scheme = 4 # PQM_IH4IH3\n",
    "remap_cs.degree = 4\n",
    "\n",
    "def gen_remap(gr_th, sa_sect, ct_sect):\n",
    "    def remap(h):\n",
    "        sa_remap = np.empty_like(h)\n",
    "        ct_remap = np.empty_like(h)\n",
    "\n",
    "        # remap by columns\n",
    "        for i in range(h.shape[1]):\n",
    "            # we need to make sure we deal with unmasking here,\n",
    "            # otherwise we'll get the fill values for thickness\n",
    "            # and salt/temp, which would be just a little weird\n",
    "            sa_remap[:,i] = mom_remapping.remapping_core_h(gr_th[:,i].compressed(),\n",
    "                                                           sa_sect[:,i].compressed(),\n",
    "                                                           h[:,i], remap_cs)\n",
    "            ct_remap[:,i] = mom_remapping.remapping_core_h(gr_th[:,i].compressed(),\n",
    "                                                           ct_sect[:,i].compressed(),\n",
    "                                                           h[:,i], remap_cs)\n",
    "\n",
    "        return sa_remap, ct_remap\n",
    "    \n",
    "    return remap"
   ]
  },
  {
   "cell_type": "markdown",
   "metadata": {},
   "source": [
    "# Climatology Data\n",
    "\n",
    "Define a function to return a remapping function for a transect."
   ]
  },
  {
   "cell_type": "code",
   "execution_count": null,
   "metadata": {
    "collapsed": true
   },
   "outputs": [],
   "source": [
    "def transect(lon_i, lat_i, ns=True):\n",
    "    # get temp and salt data for this transect\n",
    "    lat_sect = lat[lat_i]\n",
    "    lon_sect = lon[lon_i]\n",
    "    t_sect = temp.variables['t_an'][0,:,lat_i,lon_i].squeeze()\n",
    "    s_sect = salt.variables['s_an'][0,:,lat_i,lon_i].squeeze()\n",
    "\n",
    "    # empty columns are entirely masked - something crashes otherwise\n",
    "    empty = np.sum(~t_sect.mask, axis=0) == 0\n",
    "    if ns:\n",
    "        lat_sect = lat_sect[~empty]\n",
    "    else:\n",
    "        lon_sect = lon_sect[~empty]\n",
    "    t_sect = t_sect[:,~empty]\n",
    "    s_sect = s_sect[:,~empty]\n",
    "\n",
    "    # calculate SA and CT data\n",
    "    sa_sect = np.empty_like(s_sect)\n",
    "    ct_sect = np.empty_like(t_sect)\n",
    "\n",
    "    for i in range(s_sect.shape[1]):\n",
    "        # calculate columnwise\n",
    "        if ns:\n",
    "            sa_sect[:,i] = gsw.SA_from_SP(s_sect[:,i], dep, lon_sect, lat_sect[i])\n",
    "        else:\n",
    "            sa_sect[:,i] = gsw.SA_from_SP(s_sect[:,i], dep, lon_sect[i], lat_sect)\n",
    "        ct_sect[:,i] = gsw.CT_from_t(sa_sect[:,i], t_sect[:,i], dep)\n",
    "\n",
    "    # interpolate interfacial measurements onto layers\n",
    "    sa_lay = (sa_sect[1:,:] + sa_sect[:-1,:]) / 2\n",
    "    ct_lay = (ct_sect[1:,:] + ct_sect[:-1,:]) / 2\n",
    "\n",
    "    # depths of all interfaces on which observations are present\n",
    "    gr_int = np.ma.array(np.tile(dep.reshape(-1, 1), (1, sa_sect.shape[1])),\n",
    "                         mask=sa_sect.mask)\n",
    "    # thicknesses of all layers between interfaces\n",
    "    gr_th  = np.diff(gr_int, axis=0)\n",
    "    # bottom interface at each column\n",
    "    topo = gr_int.max(axis=0)\n",
    "    \n",
    "    return lon_sect, lat_sect, gen_remap(gr_th, sa_sect, ct_sect), topo"
   ]
  },
  {
   "cell_type": "markdown",
   "metadata": {},
   "source": [
    "# Replicating the MOM6 HyCOM grid\n",
    "\n",
    "As a point of comparison, we'll implement MOM6's 75-level HyCOM grid on our climatology section, which will hopefully let us see what's going wrong with it, and whether any of our ideas can help.\n",
    "\n",
    "Above, we used the 50-level target densities from the global_ALE experiment. Now we'll use the 75-level targets from OM4_025. The depth coordinates are generated by the string `FNC1:2,4000,4.5,.01`."
   ]
  },
  {
   "cell_type": "code",
   "execution_count": null,
   "metadata": {
    "collapsed": true
   },
   "outputs": [],
   "source": [
    "s2_75 = [1010, 1014.3034, 1017.8088, 1020.843, 1023.5566, 1025.813, \n",
    "    1027.0275, 1027.9114, 1028.6422, 1029.2795, 1029.852, 1030.3762, \n",
    "    1030.8626, 1031.3183, 1031.7486, 1032.1572, 1032.5471, 1032.9207, \n",
    "    1033.2798, 1033.6261, 1033.9608, 1034.2519, 1034.4817, 1034.6774, \n",
    "    1034.8508, 1035.0082, 1035.1533, 1035.2886, 1035.4159, 1035.5364, \n",
    "    1035.6511, 1035.7608, 1035.8661, 1035.9675, 1036.0645, 1036.1554, \n",
    "    1036.2411, 1036.3223, 1036.3998, 1036.4739, 1036.5451, 1036.6137, \n",
    "    1036.68, 1036.7441, 1036.8062, 1036.8526, 1036.8874, 1036.9164, \n",
    "    1036.9418, 1036.9647, 1036.9857, 1037.0052, 1037.0236, 1037.0409, \n",
    "    1037.0574, 1037.0738, 1037.0902, 1037.1066, 1037.123, 1037.1394, \n",
    "    1037.1558, 1037.1722, 1037.1887, 1037.206, 1037.2241, 1037.2435, \n",
    "    1037.2642, 1037.2866, 1037.3112, 1037.3389, 1037.3713, 1037.4118, \n",
    "    1037.475, 1037.6332, 1037.8104, 1038]"
   ]
  },
  {
   "cell_type": "code",
   "execution_count": null,
   "metadata": {
    "collapsed": true
   },
   "outputs": [],
   "source": [
    "def dz_f1(n, dz_min, total, power, precision):\n",
    "    dz = np.empty(n)\n",
    "    \n",
    "    # initial profile\n",
    "    for i in range(n):\n",
    "        dz[i] = (i / (n - 1)) ** power\n",
    "    \n",
    "    # rescale to total depth and round to precision\n",
    "    dz[:] = (total - n*dz_min) * (dz[:] / np.sum(dz))\n",
    "    dz[:] = np.around(dz[:], decimals=precision)\n",
    "    \n",
    "    # adjust bottom\n",
    "    dz[-1] += total - np.sum(dz[:] + dz_min)\n",
    "    dz[-1] = np.around(dz[-1], decimals=precision)\n",
    "    \n",
    "    dz[:] += dz_min\n",
    "    \n",
    "    return dz"
   ]
  },
  {
   "cell_type": "code",
   "execution_count": null,
   "metadata": {
    "collapsed": true
   },
   "outputs": [],
   "source": [
    "dz_75 = dz_f1(75, 2, 4000, 4.5, 2)\n",
    "max_int_depth = np.insert(dz_f1(75, 5, 8000, 1, 2).cumsum(), 0, 0)\n",
    "max_lay_thick = dz_f1(75, 400, 31000, 0.1, 2)"
   ]
  },
  {
   "cell_type": "markdown",
   "metadata": {},
   "source": [
    "Calculate nominal grid spacings and adjust to local topography."
   ]
  },
  {
   "cell_type": "code",
   "execution_count": null,
   "metadata": {
    "collapsed": false
   },
   "outputs": [],
   "source": [
    "def gen_z_75_sect(topo):\n",
    "    # convert to interface positions\n",
    "    z_75 = np.insert(dz_75.cumsum(), 0, 0)[:,np.newaxis]\n",
    "    # tile to the full size of the transect\n",
    "    z_75_full = np.tile(z_75, (1, topo.size))\n",
    "    # clip below topography\n",
    "    np.putmask(z_75_full, z_75_full > topo, topo)\n",
    "    \n",
    "    return z_75_full"
   ]
  },
  {
   "cell_type": "markdown",
   "metadata": {},
   "source": [
    "Calculate maximum interface depths and maximum layer thicknesses, also from the `dz_f1()` generating function."
   ]
  },
  {
   "cell_type": "code",
   "execution_count": null,
   "metadata": {
    "collapsed": true
   },
   "outputs": [],
   "source": [
    "def run_hycom(topo, remap, **kwargs):\n",
    "    # calculate interface positions for this transect\n",
    "    z_75 = gen_z_75_sect(topo)\n",
    "    # convert to layer thicknesses\n",
    "    h = np.diff(z_75, axis=0)\n",
    "    # remap state\n",
    "    sa, ct = remap(h)\n",
    "    \n",
    "    # use hycom algorithm to give:\n",
    "    # - z_iso:   interpolated isopycnal positions\n",
    "    # - z_bnd:   interface positions according to original hycom algorithm\n",
    "    # - z_bnd_a: interface positions with adjusted algorithm\n",
    "    z_iso, z_bnd, z_bnd_a = \\\n",
    "        hycom.hycom(h, sa, ct, s2_75, dz_75, max_int_depth, max_lay_thick, **kwargs)\n",
    "        \n",
    "    # np.diff(z, axis=0)\n",
    "    return z_iso, z_bnd, z_bnd_a"
   ]
  },
  {
   "cell_type": "markdown",
   "metadata": {},
   "source": [
    "# Denmark Strait\n",
    "\n",
    "First we have a full section through the Atlantic from the Denmark Strait down to the Antarctic margin"
   ]
  },
  {
   "cell_type": "code",
   "execution_count": null,
   "metadata": {
    "collapsed": false
   },
   "outputs": [],
   "source": [
    "# all latitudes up to Greenland\n",
    "lat_i = slice(None, 170)\n",
    "lon_i = np.abs(lon - (-25.5)).argmin()\n",
    "\n",
    "lon_den, lat_den, remap_den, topo_den = transect(lon_i, lat_i)\n",
    "\n",
    "zi, zb, za = run_hycom(topo_den, remap_den, s_topo=True, detangle=True)\n",
    "sa_iso, _ = remap_den(np.diff(zi, axis=0))\n",
    "sa_bnd, _ = remap_den(np.diff(zb, axis=0))\n",
    "sa_adj, _ = remap_den(np.diff(za, axis=0))"
   ]
  },
  {
   "cell_type": "code",
   "execution_count": null,
   "metadata": {
    "collapsed": false
   },
   "outputs": [],
   "source": [
    "plt.figure(figsize=(10,6))\n",
    "\n",
    "plt.pcolormesh(lat_den, zi, sa_iso)\n",
    "plt.plot(lat_den, zi.T, 'k', linewidth=0.5)\n",
    "plt.gca().invert_yaxis()\n",
    "plt.colorbar()\n",
    "plt.title('target isopycnals');"
   ]
  },
  {
   "cell_type": "code",
   "execution_count": null,
   "metadata": {
    "collapsed": false,
    "scrolled": false
   },
   "outputs": [],
   "source": [
    "plt.figure(figsize=(10,8))\n",
    "\n",
    "l = 55\n",
    "b = 300\n",
    "xh = lat_den\n",
    "\n",
    "ax = plt.subplot(121)\n",
    "plt.pcolormesh(xh, zb, sa_bnd)\n",
    "plt.plot(xh, zb.T, 'k', linewidth=0.5)\n",
    "ax.invert_yaxis()\n",
    "plt.ylabel('depth')\n",
    "plt.title('regular transition')\n",
    "\n",
    "plt.xlim(left=l)\n",
    "plt.ylim(bottom=b)\n",
    "\n",
    "ax = plt.subplot(122)\n",
    "plt.pcolormesh(xh, za, sa_adj)\n",
    "plt.plot(xh, za.T, 'k', linewidth=0.5)\n",
    "ax.invert_yaxis()\n",
    "ax.set_yticks([])\n",
    "plt.title('adjusted transition')\n",
    "\n",
    "plt.xlim(left=l)\n",
    "plt.ylim(bottom=b)\n",
    "\n",
    "plt.tight_layout()"
   ]
  },
  {
   "cell_type": "markdown",
   "metadata": {},
   "source": [
    "# Gibraltar Strait"
   ]
  },
  {
   "cell_type": "code",
   "execution_count": null,
   "metadata": {
    "collapsed": false
   },
   "outputs": [],
   "source": [
    "lat_i = np.abs(lat - 36).argmin()\n",
    "lon_i = slice(np.abs(lon - (-20)).argmin(),\n",
    "              np.abs(lon - (-5.5)).argmin())\n",
    "\n",
    "lon_gib, lat_gib, remap_gib, topo_gib = transect(lon_i, lat_i, ns=False)\n",
    "\n",
    "zi, zb, za = run_hycom(topo_gib, remap_gib, s_topo=True, detangle=True)\n",
    "sa_iso, _ = remap_gib(np.diff(zi, axis=0))\n",
    "sa_bnd, _ = remap_gib(np.diff(zb, axis=0))\n",
    "sa_adj, _ = remap_gib(np.diff(za, axis=0))"
   ]
  },
  {
   "cell_type": "code",
   "execution_count": null,
   "metadata": {
    "collapsed": false
   },
   "outputs": [],
   "source": [
    "plt.figure(figsize=(10,6))\n",
    "\n",
    "plt.pcolormesh(lon_gib, zi, sa_iso)\n",
    "plt.plot(lon_gib, zi.T, 'k', linewidth=0.5)\n",
    "plt.gca().invert_yaxis()\n",
    "plt.colorbar()\n",
    "plt.title('target isopycnals');"
   ]
  },
  {
   "cell_type": "code",
   "execution_count": null,
   "metadata": {
    "collapsed": false,
    "scrolled": false
   },
   "outputs": [],
   "source": [
    "plt.figure(figsize=(10,8))\n",
    "\n",
    "l = None\n",
    "b = None\n",
    "xh = lon_gib\n",
    "\n",
    "ax = plt.subplot(121)\n",
    "plt.pcolormesh(xh, zb, sa_bnd)\n",
    "plt.plot(xh, zb.T, 'k', linewidth=0.5)\n",
    "ax.invert_yaxis()\n",
    "plt.ylabel('depth')\n",
    "plt.title('regular transition')\n",
    "\n",
    "plt.xlim(left=l)\n",
    "plt.ylim(bottom=b)\n",
    "\n",
    "ax = plt.subplot(122)\n",
    "plt.pcolormesh(xh, za, sa_adj)\n",
    "plt.plot(xh, za.T, 'k', linewidth=0.5)\n",
    "ax.invert_yaxis()\n",
    "ax.set_yticks([])\n",
    "plt.title('adjusted transition')\n",
    "\n",
    "plt.xlim(left=l)\n",
    "plt.ylim(bottom=b)\n",
    "\n",
    "plt.tight_layout()"
   ]
  },
  {
   "cell_type": "markdown",
   "metadata": {},
   "source": [
    "# Gulf Stream"
   ]
  },
  {
   "cell_type": "code",
   "execution_count": null,
   "metadata": {
    "collapsed": false
   },
   "outputs": [],
   "source": [
    "lat_i = np.abs(lat - 30).argmin()\n",
    "lon_i = slice(np.abs(lon - (-81)).argmin(),\n",
    "              np.abs(lon - (-60)).argmin())\n",
    "\n",
    "lon_gul, lat_gul, remap_gul, topo_gul = transect(lon_i, lat_i, ns=False)\n",
    "\n",
    "zi, zb, za = run_hycom(topo_gul, remap_gul, s_topo=True, detangle=True)\n",
    "sa_iso, _ = remap_gul(np.diff(zi, axis=0))\n",
    "sa_bnd, _ = remap_gul(np.diff(zb, axis=0))\n",
    "sa_adj, _ = remap_gul(np.diff(za, axis=0))"
   ]
  },
  {
   "cell_type": "code",
   "execution_count": null,
   "metadata": {
    "collapsed": false
   },
   "outputs": [],
   "source": [
    "plt.figure(figsize=(10,6))\n",
    "\n",
    "plt.pcolormesh(lon_gul, zi, sa_iso)\n",
    "plt.plot(lon_gul, zi.T, 'k', linewidth=0.5)\n",
    "plt.gca().invert_yaxis()\n",
    "plt.colorbar()\n",
    "plt.title('target isopycnals');"
   ]
  },
  {
   "cell_type": "code",
   "execution_count": null,
   "metadata": {
    "collapsed": false,
    "scrolled": false
   },
   "outputs": [],
   "source": [
    "plt.figure(figsize=(10,8))\n",
    "\n",
    "l = None\n",
    "b = None\n",
    "xh = lon_gul\n",
    "\n",
    "ax = plt.subplot(121)\n",
    "plt.pcolormesh(xh, zb, sa_bnd)\n",
    "plt.plot(xh, zb.T, 'k', linewidth=0.5)\n",
    "ax.invert_yaxis()\n",
    "plt.ylabel('depth')\n",
    "plt.title('regular transition')\n",
    "\n",
    "plt.xlim(left=l)\n",
    "plt.ylim(bottom=b)\n",
    "\n",
    "ax = plt.subplot(122)\n",
    "plt.pcolormesh(xh, za, sa_adj)\n",
    "plt.plot(xh, za.T, 'k', linewidth=0.5)\n",
    "ax.invert_yaxis()\n",
    "ax.set_yticks([])\n",
    "plt.title('adjusted transition')\n",
    "\n",
    "plt.xlim(left=l)\n",
    "plt.ylim(bottom=b)\n",
    "\n",
    "plt.tight_layout()"
   ]
  }
 ],
 "metadata": {
  "kernelspec": {
   "display_name": "Python 3",
   "language": "python",
   "name": "python3"
  },
  "language_info": {
   "codemirror_mode": {
    "name": "ipython",
    "version": 3
   },
   "file_extension": ".py",
   "mimetype": "text/x-python",
   "name": "python",
   "nbconvert_exporter": "python",
   "pygments_lexer": "ipython3",
   "version": "3.6.0"
  }
 },
 "nbformat": 4,
 "nbformat_minor": 2
}
