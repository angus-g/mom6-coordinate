{
 "cells": [
  {
   "cell_type": "code",
   "execution_count": null,
   "metadata": {
    "collapsed": true
   },
   "outputs": [],
   "source": [
    "%matplotlib inline"
   ]
  },
  {
   "cell_type": "code",
   "execution_count": null,
   "metadata": {
    "collapsed": false
   },
   "outputs": [],
   "source": [
    "from netCDF4 import Dataset\n",
    "import matplotlib.pyplot as plt\n",
    "import numpy as np\n",
    "from remapping import mom_remapping\n",
    "import gsw\n",
    "import hycom\n",
    "from importlib import reload"
   ]
  },
  {
   "cell_type": "code",
   "execution_count": null,
   "metadata": {
    "collapsed": false
   },
   "outputs": [],
   "source": [
    "temp_url = 'https://data.nodc.noaa.gov/thredds/dodsC/woa/WOA13/DATAv2/temperature/netcdf/decav/1.00/woa13_decav_t00_01v2.nc'\n",
    "salt_url = 'https://data.nodc.noaa.gov/thredds/dodsC/woa/WOA13/DATAv2/salinity/netcdf/decav/1.00/woa13_decav_s00_01v2.nc'\n",
    "\n",
    "temp_url_025 = 'https://data.nodc.noaa.gov/thredds/dodsC/woa/WOA13/DATAv2/temperature/netcdf/A5B2/0.25/woa13_A5B2_t00_04v2.nc'\n",
    "salt_url_025 = 'https://data.nodc.noaa.gov/thredds/dodsC/woa/WOA13/DATAv2/salinity/netcdf/A5B2/0.25/woa13_A5B2_s00_04v2.nc'"
   ]
  },
  {
   "cell_type": "code",
   "execution_count": null,
   "metadata": {
    "collapsed": false,
    "scrolled": true
   },
   "outputs": [],
   "source": [
    "temp = Dataset(temp_url, 'r')\n",
    "salt = Dataset(salt_url, 'r')"
   ]
  },
  {
   "cell_type": "code",
   "execution_count": null,
   "metadata": {
    "collapsed": true
   },
   "outputs": [],
   "source": [
    "lat = temp.variables['lat'][:]\n",
    "lon = temp.variables['lon'][:]\n",
    "dep = temp.variables['depth'][:]"
   ]
  },
  {
   "cell_type": "code",
   "execution_count": null,
   "metadata": {
    "collapsed": false
   },
   "outputs": [],
   "source": [
    "lon_w = -25.5\n",
    "\n",
    "t_sect = temp.variables['t_an'][0,:,:,lon==lon_w].squeeze()\n",
    "s_sect = salt.variables['s_an'][0,:,:,lon==lon_w].squeeze()"
   ]
  },
  {
   "cell_type": "code",
   "execution_count": null,
   "metadata": {
    "collapsed": false
   },
   "outputs": [],
   "source": [
    "# empty columns are entirely masked\n",
    "empty = np.sum(~t_sect.mask, axis=0) == 0\n",
    "empty[169:] = True # mask above Greenland"
   ]
  },
  {
   "cell_type": "code",
   "execution_count": null,
   "metadata": {
    "collapsed": false
   },
   "outputs": [],
   "source": [
    "lat = lat[~empty]\n",
    "t_sect = t_sect[:,~empty]\n",
    "s_sect = s_sect[:,~empty]"
   ]
  },
  {
   "cell_type": "code",
   "execution_count": null,
   "metadata": {
    "collapsed": false
   },
   "outputs": [],
   "source": [
    "sa_sect = np.empty_like(s_sect)\n",
    "ct_sect = np.empty_like(t_sect)\n",
    "rho_sect = np.empty_like(s_sect)\n",
    "rhop_sect = np.empty_like(rho_sect)\n",
    "\n",
    "for i in range(s_sect.shape[1]):\n",
    "    sa_sect[:,i] = gsw.SA_from_SP(s_sect[:,i], dep, lon_w, lat[i])\n",
    "    ct_sect[:,i] = gsw.CT_from_t(sa_sect[:,i], t_sect[:,i], dep)\n",
    "    rho_sect[:,i] = gsw.rho(sa_sect[:,i], ct_sect[:,i], dep)\n",
    "    rhop_sect[:,i] = gsw.rho(sa_sect[:,i], ct_sect[:,i], 2000)"
   ]
  },
  {
   "cell_type": "code",
   "execution_count": null,
   "metadata": {
    "collapsed": true
   },
   "outputs": [],
   "source": [
    "sa_int = sa_sect\n",
    "ct_int = ct_sect"
   ]
  },
  {
   "cell_type": "code",
   "execution_count": null,
   "metadata": {
    "collapsed": true
   },
   "outputs": [],
   "source": [
    "sa_lay = (sa_int[1:,:] + sa_int[:-1,:]) / 2\n",
    "ct_lay = (ct_int[1:,:] + ct_int[:-1,:]) / 2"
   ]
  },
  {
   "cell_type": "code",
   "execution_count": null,
   "metadata": {
    "collapsed": false
   },
   "outputs": [],
   "source": [
    "# depths of all interfaces on which observations are present\n",
    "gr_int = np.ma.array(np.tile(dep.reshape(-1, 1), (1, sa_int.shape[1])), mask=sa_int.mask)\n",
    "\n",
    "# thicknesses of all layers between interfaces\n",
    "gr_th  = np.diff(gr_int, axis=0)\n",
    "\n",
    "# bottom interface at each column\n",
    "topo = gr_int.max(axis=0)"
   ]
  },
  {
   "cell_type": "code",
   "execution_count": null,
   "metadata": {
    "collapsed": true
   },
   "outputs": [],
   "source": [
    "remap_cs = mom_remapping.Remapping_Cs()\n",
    "remap_cs.remapping_scheme = 4 # PQM_IH4IH3\n",
    "remap_cs.degree = 4"
   ]
  },
  {
   "cell_type": "code",
   "execution_count": null,
   "metadata": {
    "collapsed": true
   },
   "outputs": [],
   "source": [
    "def remap(h):\n",
    "    \"\"\"\n",
    "    Remap from original climatological grid according to h\n",
    "    \"\"\"\n",
    "\n",
    "    sa_remap = np.empty_like(h)\n",
    "    ct_remap = np.empty_like(h)\n",
    "\n",
    "    # remap by columns\n",
    "    for i in range(h.shape[1]):\n",
    "        # we need to make sure we deal with unmasking here,\n",
    "        # otherwise we'll get the fill values for thickness\n",
    "        # and salt/temp, which would be just a little weird\n",
    "        sa_remap[:,i] = mom_remapping.remapping_core_h(gr_th[:,i].compressed(),\n",
    "                                                       sa_lay[:,i].compressed(),\n",
    "                                                       h[:,i], remap_cs)\n",
    "        ct_remap[:,i] = mom_remapping.remapping_core_h(gr_th[:,i].compressed(),\n",
    "                                                       ct_lay[:,i].compressed(),\n",
    "                                                       h[:,i], remap_cs)\n",
    "        \n",
    "    return sa_remap, ct_remap"
   ]
  },
  {
   "cell_type": "markdown",
   "metadata": {},
   "source": [
    "# Replicating the MOM6 HyCOM grid\n",
    "\n",
    "As a point of comparison, we'll implement MOM6's 75-level HyCOM grid on our climatology section, which will hopefully let us see what's going wrong with it, and whether any of our ideas can help.\n",
    "\n",
    "Above, we used the 50-level target densities from the global_ALE experiment. Now we'll use the 75-level targets from OM4_025. The depth coordinates are generated by the string `FNC1:2,4000,4.5,.01`."
   ]
  },
  {
   "cell_type": "code",
   "execution_count": null,
   "metadata": {
    "collapsed": true
   },
   "outputs": [],
   "source": [
    "s2_75 = [1010, 1014.3034, 1017.8088, 1020.843, 1023.5566, 1025.813, \n",
    "    1027.0275, 1027.9114, 1028.6422, 1029.2795, 1029.852, 1030.3762, \n",
    "    1030.8626, 1031.3183, 1031.7486, 1032.1572, 1032.5471, 1032.9207, \n",
    "    1033.2798, 1033.6261, 1033.9608, 1034.2519, 1034.4817, 1034.6774, \n",
    "    1034.8508, 1035.0082, 1035.1533, 1035.2886, 1035.4159, 1035.5364, \n",
    "    1035.6511, 1035.7608, 1035.8661, 1035.9675, 1036.0645, 1036.1554, \n",
    "    1036.2411, 1036.3223, 1036.3998, 1036.4739, 1036.5451, 1036.6137, \n",
    "    1036.68, 1036.7441, 1036.8062, 1036.8526, 1036.8874, 1036.9164, \n",
    "    1036.9418, 1036.9647, 1036.9857, 1037.0052, 1037.0236, 1037.0409, \n",
    "    1037.0574, 1037.0738, 1037.0902, 1037.1066, 1037.123, 1037.1394, \n",
    "    1037.1558, 1037.1722, 1037.1887, 1037.206, 1037.2241, 1037.2435, \n",
    "    1037.2642, 1037.2866, 1037.3112, 1037.3389, 1037.3713, 1037.4118, \n",
    "    1037.475, 1037.6332, 1037.8104, 1038]"
   ]
  },
  {
   "cell_type": "code",
   "execution_count": null,
   "metadata": {
    "collapsed": true
   },
   "outputs": [],
   "source": [
    "def dz_f1(n, dz_min, total, power, precision):\n",
    "    dz = np.empty(n)\n",
    "    \n",
    "    # initial profile\n",
    "    for i in range(n):\n",
    "        dz[i] = (i / (n - 1)) ** power\n",
    "    \n",
    "    # rescale to total depth and round to precision\n",
    "    dz[:] = (total - n*dz_min) * (dz[:] / np.sum(dz))\n",
    "    dz[:] = np.around(dz[:], decimals=precision)\n",
    "    \n",
    "    # adjust bottom\n",
    "    dz[-1] += total - np.sum(dz[:] + dz_min)\n",
    "    dz[-1] = np.around(dz[-1], decimals=precision)\n",
    "    \n",
    "    dz[:] += dz_min\n",
    "    \n",
    "    return dz"
   ]
  },
  {
   "cell_type": "markdown",
   "metadata": {},
   "source": [
    "Calculate nominal grid spacings and adjust to local topography."
   ]
  },
  {
   "cell_type": "code",
   "execution_count": null,
   "metadata": {
    "collapsed": false
   },
   "outputs": [],
   "source": [
    "dz_75 = dz_f1(75, 2, 4000, 4.5, 2)\n",
    "z_75 = np.insert(dz_75.cumsum(), 0, 0)[:,np.newaxis]\n",
    "\n",
    "z_75_full = np.tile(z_75, (1, sa_sect.shape[1]))\n",
    "\n",
    "np.putmask(z_75_full, z_75_full > topo, topo)"
   ]
  },
  {
   "cell_type": "markdown",
   "metadata": {},
   "source": [
    "Calculate maximum interface depths and maximum layer thicknesses, also from the `dz_f1()` generating function."
   ]
  },
  {
   "cell_type": "code",
   "execution_count": null,
   "metadata": {
    "collapsed": true
   },
   "outputs": [],
   "source": [
    "max_int_depth = np.insert(dz_f1(75, 5, 8000, 1, 2).cumsum(), 0, 0)\n",
    "max_lay_thick = dz_f1(75, 400, 31000, 0.1, 2)"
   ]
  },
  {
   "cell_type": "markdown",
   "metadata": {},
   "source": [
    "Translate to layer thicknesses and remap our climatology."
   ]
  },
  {
   "cell_type": "code",
   "execution_count": null,
   "metadata": {
    "collapsed": true
   },
   "outputs": [],
   "source": [
    "h = np.diff(z_75_full, axis=0)\n",
    "#h = np.maximum(h, 1e-3)\n",
    "\n",
    "sa_map, ct_map = remap(h)"
   ]
  },
  {
   "cell_type": "markdown",
   "metadata": {},
   "source": [
    "Now we can actually compute the grid according to the `hycom1` algorithm. We return `z_new`, which are just interfaces moved according to their target densities, and `z_bnd` which includes the additional step of interface adjustment to preserve the mixed layer."
   ]
  },
  {
   "cell_type": "code",
   "execution_count": null,
   "metadata": {
    "collapsed": false,
    "scrolled": true
   },
   "outputs": [],
   "source": [
    "reload(hycom)"
   ]
  },
  {
   "cell_type": "code",
   "execution_count": null,
   "metadata": {
    "collapsed": false
   },
   "outputs": [],
   "source": [
    "z_iso, z_bnd, z_bnd_s = \\\n",
    "    hycom.hycom(h, sa_map, ct_map, s2_75, dz_75, max_int_depth, max_lay_thick)\n",
    "\n",
    "# calculate T/S on both new grids for plotting\n",
    "sa_iso, ct_iso = remap(np.diff(z_iso, axis=0))\n",
    "sa_bnd, ct_bnd = remap(np.diff(z_bnd, axis=0))\n",
    "sa_bnd_s, ct_bnd_s = remap(np.diff(z_bnd_s, axis=0))"
   ]
  },
  {
   "cell_type": "markdown",
   "metadata": {},
   "source": [
    "## HyCOM Grids\n",
    "\n",
    "In the first plot, we're showing the HyCOM grid without any adjustment to the isopycnal positions. In the second plot, we show the grid after the three kinds of adjustment: any interface which is shallower than its nominal position is moved to this nominal position, but interfaces can't be deeper than a specified depth. Additionally, layers can't be thicker than a specified thickness."
   ]
  },
  {
   "cell_type": "code",
   "execution_count": null,
   "metadata": {
    "collapsed": false
   },
   "outputs": [],
   "source": [
    "plt.figure(figsize=(10,6))\n",
    "\n",
    "plt.pcolormesh(lat, z_iso, gsw.rho(sa_iso, ct_iso, 2000))\n",
    "plt.gca().invert_yaxis()\n",
    "plt.colorbar()\n",
    "plt.title('target isopycnals')\n",
    "plt.plot(lat, z_iso.T, 'k', linewidth=0.5);"
   ]
  },
  {
   "cell_type": "code",
   "execution_count": null,
   "metadata": {
    "collapsed": false
   },
   "outputs": [],
   "source": [
    "plt.figure(figsize=(10,6))\n",
    "\n",
    "#plt.pcolormesh(lat, z_bnd, gsw.rho(sa_bnd, ct_bnd, 2000))\n",
    "plt.pcolormesh(lat, z_bnd, sa_bnd)\n",
    "plt.gca().invert_yaxis()\n",
    "plt.colorbar()\n",
    "plt.plot(lat, z_bnd.T, 'k', linewidth=0.5)\n",
    "plt.title('original hycom interfaces over absolute salinity')\n",
    "plt.ylabel('depth')\n",
    "plt.xlabel('latitude')\n",
    "\n",
    "#plt.xlim(left=55)\n",
    "#plt.xlim(right=-50)\n",
    "#plt.ylim(bottom=300)"
   ]
  },
  {
   "cell_type": "markdown",
   "metadata": {},
   "source": [
    "This is an alternate result, using the salinity modification of target pressure. As we hoped, the Denmark Strait overflow looks to be slightly more isopycnal (this problem is significantly magnified in the actual model output)."
   ]
  },
  {
   "cell_type": "code",
   "execution_count": null,
   "metadata": {
    "collapsed": false
   },
   "outputs": [],
   "source": [
    "plt.figure(figsize=(10,6))\n",
    "\n",
    "#plt.pcolormesh(lat, z_bnd, gsw.rho(sa_bnd, ct_bnd, 2000))\n",
    "plt.pcolormesh(lat, z_bnd_s, sa_bnd_s)\n",
    "plt.gca().invert_yaxis()\n",
    "plt.colorbar()\n",
    "plt.plot(lat, z_bnd_s.T, 'k', linewidth=0.5)\n",
    "plt.title('salinity-modified hycom interfaces over absolute salinity')\n",
    "plt.ylabel('depth')\n",
    "plt.xlabel('latitude')\n",
    "\n",
    "#plt.xlim(left=55)\n",
    "#plt.xlim(right=-50)\n",
    "#plt.ylim(bottom=300)"
   ]
  },
  {
   "cell_type": "markdown",
   "metadata": {},
   "source": [
    "## Alternate Salinity Transition\n",
    "\n",
    "Here we modify the transition depth, but not the nominal depth."
   ]
  },
  {
   "cell_type": "code",
   "execution_count": null,
   "metadata": {
    "collapsed": false
   },
   "outputs": [],
   "source": [
    "plt.figure(figsize=(10,6))\n",
    "\n",
    "#plt.pcolormesh(lat, z_bnd, gsw.rho(sa_bnd, ct_bnd, 2000))\n",
    "plt.pcolormesh(lat, z_bnd_s, sa_bnd_s)\n",
    "plt.gca().invert_yaxis()\n",
    "plt.colorbar()\n",
    "plt.plot(lat, z_bnd_s.T, 'k', linewidth=0.5)\n",
    "plt.title('alternate transition hycom interfaces over absolute salinity')\n",
    "plt.ylabel('depth')\n",
    "plt.xlabel('latitude')\n",
    "\n",
    "#plt.xlim(left=55)\n",
    "#plt.xlim(right=-50)\n",
    "#plt.ylim(bottom=300)"
   ]
  },
  {
   "cell_type": "markdown",
   "metadata": {},
   "source": [
    "Let's zoom on the overflow at the Denmark Strait, where we can see the impact of the reduction of target pressure with salinity. We also look at a segment near the Antarctic coast, where the halocline dictates that we should remain in z coordinates fairly deep. Our salinity modification leaves the target positions quite intact here."
   ]
  },
  {
   "cell_type": "code",
   "execution_count": null,
   "metadata": {
    "collapsed": false,
    "scrolled": false
   },
   "outputs": [],
   "source": [
    "plt.figure(figsize=(10,8))\n",
    "\n",
    "ax = plt.subplot(221)\n",
    "plt.pcolormesh(lat, z_bnd, sa_bnd)\n",
    "ax.invert_yaxis()\n",
    "plt.plot(lat, z_bnd.T, 'k', linewidth=0.5)\n",
    "plt.ylabel('depth')\n",
    "plt.title('regular transition')\n",
    "\n",
    "plt.xlim(left=55)\n",
    "plt.ylim(bottom=300)\n",
    "\n",
    "ax = plt.subplot(222)\n",
    "plt.pcolormesh(lat, z_bnd_s, sa_bnd_s)\n",
    "ax.invert_yaxis()\n",
    "ax.set_yticks([])\n",
    "plt.plot(lat, z_bnd_s.T, 'k', linewidth=0.5)\n",
    "plt.title('salinity-modified transition')\n",
    "\n",
    "plt.xlim(left=55)\n",
    "plt.ylim(bottom=300)\n",
    "\n",
    "ax = plt.subplot(223)\n",
    "plt.pcolormesh(lat, z_bnd, sa_bnd)\n",
    "ax.invert_yaxis()\n",
    "plt.plot(lat, z_bnd.T, 'k', linewidth=0.5)\n",
    "plt.ylabel('depth')\n",
    "plt.xlabel('latitude')\n",
    "\n",
    "plt.xlim(right=-50)\n",
    "plt.ylim(bottom=1000)\n",
    "\n",
    "ax = plt.subplot(224)\n",
    "plt.pcolormesh(lat, z_bnd_s, sa_bnd_s)\n",
    "ax.invert_yaxis()\n",
    "ax.set_yticks([])\n",
    "plt.plot(lat, z_bnd_s.T, 'k', linewidth=0.5)\n",
    "plt.xlabel('latitude')\n",
    "\n",
    "plt.xlim(right=-50)\n",
    "plt.ylim(bottom=1000)\n",
    "\n",
    "plt.tight_layout()"
   ]
  },
  {
   "cell_type": "markdown",
   "metadata": {},
   "source": [
    "## Alternate Transition"
   ]
  },
  {
   "cell_type": "code",
   "execution_count": null,
   "metadata": {
    "collapsed": false,
    "scrolled": false
   },
   "outputs": [],
   "source": [
    "plt.figure(figsize=(10,8))\n",
    "\n",
    "ax = plt.subplot(221)\n",
    "plt.pcolormesh(lat, z_bnd, sa_bnd)\n",
    "ax.invert_yaxis()\n",
    "plt.plot(lat, z_bnd.T, 'k', linewidth=0.5)\n",
    "plt.ylabel('depth')\n",
    "plt.title('regular transition')\n",
    "\n",
    "plt.xlim(left=55)\n",
    "plt.ylim(bottom=300)\n",
    "\n",
    "ax = plt.subplot(222)\n",
    "plt.pcolormesh(lat, z_bnd_s, sa_bnd_s)\n",
    "ax.invert_yaxis()\n",
    "ax.set_yticks([])\n",
    "plt.plot(lat, z_bnd_s.T, 'k', linewidth=0.5)\n",
    "plt.title('salinity-modified transition')\n",
    "\n",
    "plt.xlim(left=55)\n",
    "plt.ylim(bottom=300)\n",
    "\n",
    "ax = plt.subplot(223)\n",
    "plt.pcolormesh(lat, z_bnd, sa_bnd)\n",
    "ax.invert_yaxis()\n",
    "plt.plot(lat, z_bnd.T, 'k', linewidth=0.5)\n",
    "plt.ylabel('depth')\n",
    "plt.xlabel('latitude')\n",
    "\n",
    "plt.xlim(right=-50)\n",
    "plt.ylim(bottom=1000)\n",
    "\n",
    "ax = plt.subplot(224)\n",
    "plt.pcolormesh(lat, z_bnd_s, sa_bnd_s)\n",
    "ax.invert_yaxis()\n",
    "ax.set_yticks([])\n",
    "plt.plot(lat, z_bnd_s.T, 'k', linewidth=0.5)\n",
    "plt.xlabel('latitude')\n",
    "\n",
    "plt.xlim(right=-50)\n",
    "plt.ylim(bottom=1000)\n",
    "\n",
    "plt.tight_layout()"
   ]
  }
 ],
 "metadata": {
  "kernelspec": {
   "display_name": "Python 3",
   "language": "python",
   "name": "python3"
  },
  "language_info": {
   "codemirror_mode": {
    "name": "ipython",
    "version": 3
   },
   "file_extension": ".py",
   "mimetype": "text/x-python",
   "name": "python",
   "nbconvert_exporter": "python",
   "pygments_lexer": "ipython3",
   "version": "3.6.0"
  }
 },
 "nbformat": 4,
 "nbformat_minor": 2
}
