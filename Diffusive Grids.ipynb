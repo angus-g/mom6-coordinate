{
 "cells": [
  {
   "cell_type": "code",
   "execution_count": null,
   "metadata": {
    "collapsed": true
   },
   "outputs": [],
   "source": [
    "%matplotlib inline"
   ]
  },
  {
   "cell_type": "markdown",
   "metadata": {},
   "source": [
    "# Diffusive Grids\n",
    "\n",
    "This is just a simple implementation of the idea of 1D adaptive vertical coordinates (Burchard and Beckers, 2004). We take a random profile from WOA13 to give us a stratification, and explore the effect of the stratification, near-surface and background grid diffusivity coefficients."
   ]
  },
  {
   "cell_type": "code",
   "execution_count": null,
   "metadata": {
    "collapsed": true
   },
   "outputs": [],
   "source": [
    "import matplotlib.pyplot as plt\n",
    "import numpy as np\n",
    "from netCDF4 import Dataset\n",
    "import gsw\n",
    "from scipy.interpolate import interp1d\n",
    "from scipy.linalg import solve_banded"
   ]
  },
  {
   "cell_type": "markdown",
   "metadata": {},
   "source": [
    "Load WOA13 and grab the in-situ temperature and practical salinity, as well as coordinate variables."
   ]
  },
  {
   "cell_type": "code",
   "execution_count": null,
   "metadata": {
    "collapsed": true
   },
   "outputs": [],
   "source": [
    "temp_d = Dataset('../convert_WOA13/raw/woa13_A5B2_t01_01v2.nc', 'r')\n",
    "salt_d = Dataset('../convert_WOA13/raw/woa13_A5B2_s01_01v2.nc', 'r')\n",
    "\n",
    "dep = temp_d.variables['depth'][:]\n",
    "lat = temp_d.variables['lat'][:]\n",
    "lon = temp_d.variables['lon'][:]\n",
    "\n",
    "temp = temp_d.variables['t_an']\n",
    "salt = salt_d.variables['s_an']"
   ]
  },
  {
   "cell_type": "markdown",
   "metadata": {},
   "source": [
    "Just choose a nice full-depth (1500m, 57 levels) profile from the Denmark Strait. The observations are annoying because they include the surface and the very bottom, so we'll just use `dep` as our interface locations and average to get observation locations."
   ]
  },
  {
   "cell_type": "code",
   "execution_count": null,
   "metadata": {
    "collapsed": false
   },
   "outputs": [],
   "source": [
    "lat_i = lat == 63.5\n",
    "lon_i = (-39.5 <= lon) & (lon <= -22.5)\n",
    "\n",
    "temp_c = temp[0,:,lat_i,lon_i].squeeze()\n",
    "salt_c = salt[0,:,lat_i,lon_i].squeeze()\n",
    "\n",
    "# average observations between original locations\n",
    "dep_lay = (dep[1:]    + dep[:-1])    / 2\n",
    "temp_c  = (temp_c[1:,:] + temp_c[:-1,:]) / 2\n",
    "salt_c  = (salt_c[1:,:] + salt_c[:-1,:]) / 2"
   ]
  },
  {
   "cell_type": "markdown",
   "metadata": {},
   "source": [
    "Use GSW (TEOS-10) to convert to absolute salinity and conservative temperature, then compute the density referenced to 2000m and the buoyancy frequency *on interfaces*."
   ]
  },
  {
   "cell_type": "code",
   "execution_count": null,
   "metadata": {
    "collapsed": false
   },
   "outputs": [],
   "source": [
    "sa_c  = np.empty_like(salt_c)\n",
    "ct_c  = np.empty_like(salt_c)\n",
    "r_c   = np.empty_like(salt_c)\n",
    "n2    = np.empty((salt_c.shape[0] - 1, salt_c.shape[1]))\n",
    "# new interface depths\n",
    "dep_c = np.empty_like(n2)\n",
    "\n",
    "# calcluate for each column\n",
    "for i in range(salt_c.shape[1]):\n",
    "    sa_c[:,i]           = gsw.SA_from_SP(salt_c[:,i], dep_lay, lon[lon_i][i], 63.5)\n",
    "    ct_c[:,i]           = gsw.CT_from_t(sa_c[:,i], temp_c[:,i], dep_lay)\n",
    "    r_c[:,i]            = gsw.rho(sa_c[:,i], ct_c[:,i], 2000)\n",
    "    n2[:,i], dep_c[:,i] = gsw.Nsquared(sa_c[:,i], ct_c[:,i], dep_lay)"
   ]
  },
  {
   "cell_type": "markdown",
   "metadata": {},
   "source": [
    "Convert from buoyancy frequency to stratification by eliminating gravity and a weird decibar to pascal conversion."
   ]
  },
  {
   "cell_type": "code",
   "execution_count": null,
   "metadata": {
    "collapsed": false
   },
   "outputs": [],
   "source": [
    "g = 9.7963\n",
    "dz_r = np.maximum((n2 * 1e4) / g**2, 0)\n",
    "k_n2_int = dz_r / (r_c[-1,:] - r_c[0,:])"
   ]
  },
  {
   "cell_type": "markdown",
   "metadata": {},
   "source": [
    "Plot our $k^\\text{grid}_{N^2}$ diffusivity, on interfaces. We need to interpolate it back to layers so that the diffusion equation applies to interfaces."
   ]
  },
  {
   "cell_type": "code",
   "execution_count": null,
   "metadata": {
    "collapsed": false
   },
   "outputs": [],
   "source": [
    "plt.plot(k_n2_int);"
   ]
  },
  {
   "cell_type": "markdown",
   "metadata": {},
   "source": [
    "Now we need to interpolate this from interfaces `dep_c` to layers `dep_lay`."
   ]
  },
  {
   "cell_type": "code",
   "execution_count": null,
   "metadata": {
    "collapsed": false
   },
   "outputs": [],
   "source": [
    "k_n2 = np.empty_like(sa_c)\n",
    "\n",
    "for i in range(k_n2.shape[1]):\n",
    "    f         = interp1d(dep_c[:,i], k_n2_int[:,i], bounds_error=False, fill_value=\"extrapolate\")\n",
    "    k_n2[:,i] = f(dep_lay)"
   ]
  },
  {
   "cell_type": "markdown",
   "metadata": {},
   "source": [
    "The discretised implicit diffusion equation is\n",
    "$$ z_i^{n+1} = z_i^n + I^2 \\Delta t^\\text{grid}\\left(k^\\text{grid}_{i+1}\\left(z_{i+1}^{n+1} - z_i^{n+1}\\right) - k^\\text{grid}_i\\left(z_i^{n+1} - z_{i-1}^{n+1}\\right)\\right), $$\n",
    "which just gives a tridiagonal system. $I$ is the number of layers.\n",
    "\n",
    "Upper diagonal coefficients are $-I^2 \\Delta t k^\\text{grid}_{i+1}$, lower diagonal coefficients are similarly $-I^2 \\Delta t k^\\text{grid}_i$, and diagonal coefficients are simply\n",
    "$$ 1 + I^2 \\Delta t \\left(k^\\text{grid}_{i+1} + k^\\text{grid}_i\\right).$$"
   ]
  },
  {
   "cell_type": "code",
   "execution_count": null,
   "metadata": {
    "collapsed": false
   },
   "outputs": [],
   "source": [
    "dep_next = np.empty((dep_c.shape[0] + 2, dep_c.shape[1]))\n",
    "\n",
    "for i in range(dep_next.shape[1]):\n",
    "    # determine total grid coefficient from\n",
    "    # buoyancy term k_n2\n",
    "    # background term 1/D\n",
    "    k_grid = (1500 * 0.7 * k_n2[:,i] + 0.3) / 3600\n",
    "\n",
    "    dt = 300               # one hour restoring timescale?\n",
    "    I = dep_c.shape[0] + 1     # number of layers\n",
    "    A = np.zeros((3, I+1)) # diffusion system coefficients\n",
    "    # add surface and bottom to interfaces\n",
    "    dep_i = np.hstack([0, dep_c[:,i], 1500])\n",
    "\n",
    "    A[0,2:]     = -dt * I**2 * k_grid[1:]\n",
    "    A[2,:-2]    = -dt * I**2 * k_grid[:-1]\n",
    "    A[1,[0,-1]] = 1 # boundary conditions\n",
    "    A[1,1:-1]   = 1 + I**2 * dt * (k_grid[1:] + k_grid[:-1])\n",
    "\n",
    "    # solve tridiagonal system\n",
    "    dep_next[:,i] = solve_banded((1, 1), A, dep_i)"
   ]
  },
  {
   "cell_type": "code",
   "execution_count": null,
   "metadata": {
    "collapsed": false
   },
   "outputs": [],
   "source": [
    "plt.plot(dep_next[1:-1,:], '*')\n",
    "plt.gca().invert_yaxis()"
   ]
  }
 ],
 "metadata": {
  "kernelspec": {
   "display_name": "Python 3",
   "language": "python",
   "name": "python3"
  },
  "language_info": {
   "codemirror_mode": {
    "name": "ipython",
    "version": 3
   },
   "file_extension": ".py",
   "mimetype": "text/x-python",
   "name": "python",
   "nbconvert_exporter": "python",
   "pygments_lexer": "ipython3",
   "version": "3.6.0"
  }
 },
 "nbformat": 4,
 "nbformat_minor": 2
}
